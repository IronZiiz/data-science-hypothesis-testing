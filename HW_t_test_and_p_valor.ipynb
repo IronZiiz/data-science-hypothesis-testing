{
  "nbformat": 4,
  "nbformat_minor": 0,
  "metadata": {
    "colab": {
      "provenance": [],
      "authorship_tag": "ABX9TyNfzQcBkVbW+VFL2QxoYGho",
      "include_colab_link": true
    },
    "kernelspec": {
      "name": "python3",
      "display_name": "Python 3"
    },
    "language_info": {
      "name": "python"
    }
  },
  "cells": [
    {
      "cell_type": "markdown",
      "metadata": {
        "id": "view-in-github",
        "colab_type": "text"
      },
      "source": [
        "<a href=\"https://colab.research.google.com/github/IronZiiz/data-science-hypothesis-testing/blob/main/HW_t_test_and_p_valor.ipynb\" target=\"_parent\"><img src=\"https://colab.research.google.com/assets/colab-badge.svg\" alt=\"Open In Colab\"/></a>"
      ]
    },
    {
      "cell_type": "markdown",
      "source": [
        "#Problem\n",
        "The consulting firm you are part of has received a new client, Techsafe.\n",
        "\n",
        "Techsafe is a technology company that recently launched a new data compression software, claiming that it can significantly reduce file sizes compared to the previous version. The development team is interested in verifying whether the new software actually achieves an average compression rate higher than 20%, as advertised.\n",
        "\n",
        "For this task, Techsafe has provided fewer sample data compared to its last consultation. The team received a sample of 25 files compressed using the new software and measured the compression percentage for each file, storing each value in a table on a scale from 0 to 100."
      ],
      "metadata": {
        "id": "-POEC6IFgKU_"
      }
    },
    {
      "cell_type": "code",
      "source": [
        "import pandas as pd\n",
        "from scipy.stats import ttest_1samp"
      ],
      "metadata": {
        "id": "e1kN7yiqgJUh"
      },
      "execution_count": 6,
      "outputs": []
    },
    {
      "cell_type": "code",
      "execution_count": 3,
      "metadata": {
        "id": "Pjouf32Dfghl"
      },
      "outputs": [],
      "source": [
        "# Set of datas techsafe\n",
        "df_techsafe = pd.DataFrame({'porcentagem_compressao': [21.99342831, 20.7234714 , 22.29537708, 24.04605971, 20.53169325, 20.53172609, 24.15842563, 22.53486946, 20.06105123, 22.08512009, 20.07316461, 20.06854049, 21.48392454, 17.17343951, 17.55016433, 19.87542494, 18.97433776, 21.62849467, 19.18395185, 18.1753926, 23.93129754, 20.5484474 , 21.13505641, 18.15050363, 19.91123455]})"
      ]
    },
    {
      "cell_type": "markdown",
      "source": [
        "##hypothesis\n",
        "H0 = 20\n",
        "\n",
        "H1 >= 20"
      ],
      "metadata": {
        "id": "l6X_DniOhQ7u"
      }
    },
    {
      "cell_type": "code",
      "source": [
        "# mean\n",
        "df_techsafe['porcentagem_compressao'].mean()"
      ],
      "metadata": {
        "colab": {
          "base_uri": "https://localhost:8080/"
        },
        "id": "491kL2cOhiBj",
        "outputId": "56dee8d9-a749-4a30-8412-ed4afad23f25"
      },
      "execution_count": 5,
      "outputs": [
        {
          "output_type": "execute_result",
          "data": {
            "text/plain": [
              "20.6729838832"
            ]
          },
          "metadata": {},
          "execution_count": 5
        }
      ]
    },
    {
      "cell_type": "code",
      "source": [
        "stats, p_valor = ttest_1samp(df_techsafe['porcentagem_compressao'], 20, alternative='greater')"
      ],
      "metadata": {
        "id": "mg5-cYuth9oX"
      },
      "execution_count": 13,
      "outputs": []
    },
    {
      "cell_type": "code",
      "source": [
        "# show results\n",
        "print(stats)\n",
        "print(p_valor)"
      ],
      "metadata": {
        "colab": {
          "base_uri": "https://localhost:8080/"
        },
        "id": "Nb_2ijLDiXCg",
        "outputId": "9134c608-1f8b-419a-fc5e-0bd56dc63b03"
      },
      "execution_count": 14,
      "outputs": [
        {
          "output_type": "stream",
          "name": "stdout",
          "text": [
            "1.7588775656761988\n",
            "0.04567200091129674\n"
          ]
        }
      ]
    },
    {
      "cell_type": "code",
      "source": [
        "# significance level\n",
        "nivel_significancia = 0.05"
      ],
      "metadata": {
        "id": "rMvqv1__iglH"
      },
      "execution_count": 15,
      "outputs": []
    },
    {
      "cell_type": "code",
      "source": [
        "if p_valor < nivel_significancia:\n",
        "    conclusao = print('Rejeitar a hipótese nula')\n",
        "else:\n",
        "    conclusao = print('Aceitar a hipótese nula')\n",
        "conclusao"
      ],
      "metadata": {
        "colab": {
          "base_uri": "https://localhost:8080/"
        },
        "id": "O2DQvIBQikg6",
        "outputId": "1eec8e6e-8cd8-4252-8132-47d3753eb9d3"
      },
      "execution_count": 16,
      "outputs": [
        {
          "output_type": "stream",
          "name": "stdout",
          "text": [
            "Rejeitar a hipótese nula\n"
          ]
        }
      ]
    },
    {
      "cell_type": "markdown",
      "source": [
        "## Conlusion\n",
        "We can conclude that the average compression rate is highter than 20%. Cause we reject null hyphotesis"
      ],
      "metadata": {
        "id": "VORNX2cbi0pg"
      }
    }
  ]
}