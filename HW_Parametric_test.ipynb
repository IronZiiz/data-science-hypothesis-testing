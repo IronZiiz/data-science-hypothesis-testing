{
  "nbformat": 4,
  "nbformat_minor": 0,
  "metadata": {
    "colab": {
      "provenance": [],
      "authorship_tag": "ABX9TyMHuLKmVahGwMmy7IKxr2SC",
      "include_colab_link": true
    },
    "kernelspec": {
      "name": "python3",
      "display_name": "Python 3"
    },
    "language_info": {
      "name": "python"
    }
  },
  "cells": [
    {
      "cell_type": "markdown",
      "metadata": {
        "id": "view-in-github",
        "colab_type": "text"
      },
      "source": [
        "<a href=\"https://colab.research.google.com/github/IronZiiz/data-science-hypothesis-testing/blob/main/HW_Parametric_test.ipynb\" target=\"_parent\"><img src=\"https://colab.research.google.com/assets/colab-badge.svg\" alt=\"Open In Colab\"/></a>"
      ]
    },
    {
      "cell_type": "markdown",
      "source": [
        "#First Case: Zoop Megastore\n",
        "\n",
        "Zoop is implementing a new training program for its sales team and wants to evaluate whether it has resulted in an increase in the average sales achieved by salespeople. The experiment involved measuring the sales figures of each salesperson before and after the training."
      ],
      "metadata": {
        "id": "foeUQknx2GuH"
      }
    },
    {
      "cell_type": "code",
      "execution_count": null,
      "metadata": {
        "id": "4aCxg73t12vP"
      },
      "outputs": [],
      "source": [
        "import pandas as pd\n",
        "import numpy as np\n",
        "import matplotlib.pyplot as plt"
      ]
    },
    {
      "cell_type": "code",
      "source": [
        "df_equipe_vendas = pd.DataFrame({'Vendedor': [ 'Luíza', 'Bia', 'Rodrigo', 'Allan', 'Evaldo'],\n",
        "                                 'Vendas Antes (R$)': [252.72, 203.91, 307.32, 185.78, 220.5],\n",
        "                                 'Vendas Depois (R$)': [285.1, 223.15, 324.41, 202.23, 240.63]})"
      ],
      "metadata": {
        "id": "ffobYRn_2-s3"
      },
      "execution_count": null,
      "outputs": []
    },
    {
      "cell_type": "code",
      "source": [
        "antes_do_treinamento = df_equipe_vendas['Vendas Antes (R$)']\n",
        "depois_do_treinamento = df_equipe_vendas['Vendas Depois (R$)']\n",
        "\n",
        "# compare between each other\n",
        "resultado_subtracao = [b - a for a,b in zip(antes_do_treinamento, depois_do_treinamento)]"
      ],
      "metadata": {
        "id": "29I6s80-3eVe"
      },
      "execution_count": null,
      "outputs": []
    },
    {
      "cell_type": "code",
      "source": [
        "resultado_subtracao"
      ],
      "metadata": {
        "colab": {
          "base_uri": "https://localhost:8080/"
        },
        "id": "mfppkLP236bK",
        "outputId": "bc03f86f-3c5a-44a1-e376-ed36e0cbf5cf"
      },
      "execution_count": null,
      "outputs": [
        {
          "output_type": "execute_result",
          "data": {
            "text/plain": [
              "[32.380000000000024,\n",
              " 19.24000000000001,\n",
              " 17.090000000000032,\n",
              " 16.44999999999999,\n",
              " 20.129999999999995]"
            ]
          },
          "metadata": {},
          "execution_count": 6
        }
      ]
    },
    {
      "cell_type": "code",
      "source": [
        "# Parallel samples\n",
        "# hypothesis\n",
        "# H0 = 0\n",
        "# H1 > 0"
      ],
      "metadata": {
        "id": "H4rdbtJd3CD4"
      },
      "execution_count": null,
      "outputs": []
    },
    {
      "cell_type": "code",
      "source": [
        "from scipy.stats import ttest_rel"
      ],
      "metadata": {
        "id": "FFg2sNAj4DsI"
      },
      "execution_count": null,
      "outputs": []
    },
    {
      "cell_type": "code",
      "source": [
        "stats, p_valor = ttest_rel(depois_do_treinamento, antes_do_treinamento, alternative = \"greater\")"
      ],
      "metadata": {
        "id": "oc0mlrI84KlP"
      },
      "execution_count": null,
      "outputs": []
    },
    {
      "cell_type": "code",
      "source": [
        "print(p_valor)"
      ],
      "metadata": {
        "colab": {
          "base_uri": "https://localhost:8080/"
        },
        "id": "gObN7xZk4QvV",
        "outputId": "cfee9be0-b463-43c2-c478-c9658ebe6db2"
      },
      "execution_count": null,
      "outputs": [
        {
          "output_type": "stream",
          "name": "stdout",
          "text": [
            "0.0009672115386790286\n"
          ]
        }
      ]
    },
    {
      "cell_type": "code",
      "source": [
        "# Interpretação dos resultados\n",
        "\n",
        "alpha = 0.05\n",
        "if p_valor < alpha:\n",
        "    print(\"Reject the null hypothesis: There is evidence that service has improved with the training.\")\n",
        "else:\n",
        "    print(\"Do not reject the null hypothesis: There is no evidence that service has improved with the training.\")"
      ],
      "metadata": {
        "colab": {
          "base_uri": "https://localhost:8080/"
        },
        "id": "S1kLlRE84UeG",
        "outputId": "2c2a8199-295a-4af3-e3a1-75f2c36482b0"
      },
      "execution_count": null,
      "outputs": [
        {
          "output_type": "stream",
          "name": "stdout",
          "text": [
            "Reject the null hypothesis: There is evidence that service has improved with the training.\n"
          ]
        }
      ]
    },
    {
      "cell_type": "markdown",
      "source": [
        "\n",
        "\n",
        "#Second Case: Zoop Megastore\n",
        "\n",
        "In addition to sales, Zoop would also like to conduct a study on customer satisfaction in two different branches that recently opened. The goal is to determine whether there is a significant difference in the average customer satisfaction scores between the branches.\n",
        "\n",
        "The collected data on average customer satisfaction scores are available below:"
      ],
      "metadata": {
        "id": "qRSLoK7b2Jdh"
      }
    },
    {
      "cell_type": "code",
      "source": [
        "df_filiais = pd.DataFrame({'Filial Centro-Norte': [3.2, 2.9, 2.0, 3.3, 3.1],\n",
        "                           'Filial Sul': [3.8, 4.0, 4.7, 4.9, 4.8]})"
      ],
      "metadata": {
        "id": "vj-FUAOh2mxZ"
      },
      "execution_count": null,
      "outputs": []
    },
    {
      "cell_type": "code",
      "source": [
        "# no dependent samples\n",
        "\n",
        "print(np.mean(df_filiais['Filial Centro-Norte']))\n",
        "print(np.mean(df_filiais['Filial Sul']))"
      ],
      "metadata": {
        "colab": {
          "base_uri": "https://localhost:8080/"
        },
        "id": "jUie_V4a4fys",
        "outputId": "2e493513-f7c4-4e7e-d9cf-cfb938b15883"
      },
      "execution_count": null,
      "outputs": [
        {
          "output_type": "stream",
          "name": "stdout",
          "text": [
            "2.8999999999999995\n",
            "4.4399999999999995\n"
          ]
        }
      ]
    },
    {
      "cell_type": "code",
      "source": [
        "# hypothesis\n",
        "# H0: satsifaction(CN) = satisfaction(S)\n",
        "# H1: Satisfaction(CN) != satisfaction(S)"
      ],
      "metadata": {
        "id": "pi529MXF58RP"
      },
      "execution_count": null,
      "outputs": []
    },
    {
      "cell_type": "code",
      "source": [
        "from scipy.stats import ttest_ind"
      ],
      "metadata": {
        "id": "ijutheY66tXG"
      },
      "execution_count": null,
      "outputs": []
    },
    {
      "cell_type": "code",
      "source": [
        "stats, p_valor = ttest_ind(df_filiais['Filial Centro-Norte'], df_filiais['Filial Sul'])"
      ],
      "metadata": {
        "id": "ncs6RqVa6zns"
      },
      "execution_count": null,
      "outputs": []
    },
    {
      "cell_type": "code",
      "source": [
        "print(f\"Estatística do teste: {stats}\")\n",
        "print(f\"Valor-p: {p_valor}\")\n",
        "\n"
      ],
      "metadata": {
        "colab": {
          "base_uri": "https://localhost:8080/"
        },
        "id": "1B_VTuvJ7CTp",
        "outputId": "72b286fd-7725-420b-b756-41645e71ca9c"
      },
      "execution_count": null,
      "outputs": [
        {
          "output_type": "stream",
          "name": "stdout",
          "text": [
            "Estatística do teste: -4.73902240270431\n",
            "Valor-p: 0.001465798816319686\n"
          ]
        }
      ]
    },
    {
      "cell_type": "code",
      "source": [
        "alpha = 0.05\n",
        "if p_valor < alpha:\n",
        "   print(\"Reject the null hypothesis: There is evidence of a significant difference between branches.\")\n",
        "else:\n",
        "   print(\"Do not reject the null hypothesis: There is no evidence of a significant difference between branches.\")"
      ],
      "metadata": {
        "colab": {
          "base_uri": "https://localhost:8080/"
        },
        "id": "G4ntRGra7DpS",
        "outputId": "3f24e796-2f03-4d64-9255-ccc3d7f44610"
      },
      "execution_count": null,
      "outputs": [
        {
          "output_type": "stream",
          "name": "stdout",
          "text": [
            "Reject the null hypothesis: There is evidence of a significant difference between branches.\n"
          ]
        }
      ]
    }
  ]
}